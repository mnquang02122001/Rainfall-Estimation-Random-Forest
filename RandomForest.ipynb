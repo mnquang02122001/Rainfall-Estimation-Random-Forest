{
  "nbformat": 4,
  "nbformat_minor": 0,
  "metadata": {
    "colab": {
      "name": "RandomForest.ipynb",
      "provenance": [],
      "collapsed_sections": []
    },
    "kernelspec": {
      "name": "python3",
      "display_name": "Python 3"
    },
    "language_info": {
      "name": "python"
    }
  },
  "cells": [
    {
      "cell_type": "markdown",
      "source": [
        "## **Import library**"
      ],
      "metadata": {
        "id": "NZIi1e6UC3eG"
      }
    },
    {
      "cell_type": "code",
      "source": [
        "import numpy as np\n",
        "import pandas as pd\n",
        "from google.colab import drive\n",
        "import matplotlib.pyplot as plt\n",
        "#split data\n",
        "from sklearn.model_selection import train_test_split\n",
        "\n",
        "#ML_model_random Forest\n",
        "from sklearn.ensemble import RandomForestRegressor\n",
        "from sklearn.ensemble import RandomForestClassifier\n",
        "\n",
        "#metrics\n",
        "from sklearn.metrics import mean_squared_error\n",
        "from sklearn.metrics import confusion_matrix,classification_report"
      ],
      "metadata": {
        "id": "lp8hFtoB51je"
      },
      "execution_count": 1,
      "outputs": []
    },
    {
      "cell_type": "code",
      "execution_count": 2,
      "metadata": {
        "id": "OX7KRRX9wXuk",
        "colab": {
          "base_uri": "https://localhost:8080/"
        },
        "outputId": "3b751d5f-10af-4479-8189-ab5fc73c4744"
      },
      "outputs": [
        {
          "output_type": "stream",
          "name": "stdout",
          "text": [
            "Mounted at /content/drive\n"
          ]
        }
      ],
      "source": [
        "drive.mount('/content/drive')"
      ]
    },
    {
      "cell_type": "markdown",
      "source": [
        "## **Open Data**"
      ],
      "metadata": {
        "id": "IyRvTEmJDTGY"
      }
    },
    {
      "cell_type": "code",
      "source": [
        "d = pd.read_csv('/content/drive/My Drive/RainData/Station/Dataset.csv')\n",
        "d.shape"
      ],
      "metadata": {
        "colab": {
          "base_uri": "https://localhost:8080/"
        },
        "id": "K0cbiHfL5x3T",
        "outputId": "76a89d89-c3fc-4b43-e234-6c4b7a1f6b77"
      },
      "execution_count": 3,
      "outputs": [
        {
          "output_type": "execute_result",
          "data": {
            "text/plain": [
              "(1539, 46)"
            ]
          },
          "metadata": {},
          "execution_count": 3
        }
      ]
    },
    {
      "cell_type": "markdown",
      "source": [
        "![image.png](data:image/png;base64,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)"
      ],
      "metadata": {
        "id": "Sk-6YOStErQZ"
      }
    },
    {
      "cell_type": "code",
      "source": [
        "d1 = d[['10.4', '7.3-13.3','8.6-10.4','10.4-12.4', '6.2-6.9', '6.9-7.3', 'Giá trị']]\n",
        "d1.shape"
      ],
      "metadata": {
        "colab": {
          "base_uri": "https://localhost:8080/"
        },
        "id": "aIPknTjWEyB4",
        "outputId": "994de343-ec97-48c1-f958-cbf0f8587e24"
      },
      "execution_count": 4,
      "outputs": [
        {
          "output_type": "execute_result",
          "data": {
            "text/plain": [
              "(1539, 7)"
            ]
          },
          "metadata": {},
          "execution_count": 4
        }
      ]
    },
    {
      "cell_type": "markdown",
      "source": [
        "## **Data Preparation**"
      ],
      "metadata": {
        "id": "mUGqY8WGFci4"
      }
    },
    {
      "cell_type": "code",
      "source": [
        "labels = np.array(list(range(1539)))\n",
        "rnum = labels[d1['Giá trị'] > 0. ]\n",
        "nnum = labels[d1['Giá trị'] == 0.]\n",
        "print('Rain = ', len(rnum))\n",
        "print('No rain = ', len(nnum))"
      ],
      "metadata": {
        "colab": {
          "base_uri": "https://localhost:8080/"
        },
        "id": "uj7DuazzFhGa",
        "outputId": "06fe8316-fcaf-4e9f-f7d1-61a9efb8b96a"
      },
      "execution_count": 5,
      "outputs": [
        {
          "output_type": "stream",
          "name": "stdout",
          "text": [
            "Rain =  52\n",
            "No rain =  1487\n"
          ]
        }
      ]
    },
    {
      "cell_type": "code",
      "source": [
        "nnum_train, nnum_test, = train_test_split(nnum, train_size=0.35, random_state = 40)\n",
        "len(nnum_train)"
      ],
      "metadata": {
        "colab": {
          "base_uri": "https://localhost:8080/"
        },
        "id": "r82ld19fQKXQ",
        "outputId": "697a19b4-6ae5-450e-d695-c82df0706930"
      },
      "execution_count": 6,
      "outputs": [
        {
          "output_type": "execute_result",
          "data": {
            "text/plain": [
              "520"
            ]
          },
          "metadata": {},
          "execution_count": 6
        }
      ]
    },
    {
      "cell_type": "code",
      "source": [
        "dfn = d1.loc[nnum_train, :]\n",
        "dfr = d1.loc[rnum, :]\n",
        "dfn['class'] = 0\n",
        "dfr['class'] = 1\n",
        "df = pd.concat((dfn, dfr), axis=0)"
      ],
      "metadata": {
        "id": "h7FBU1BrL4gI"
      },
      "execution_count": 7,
      "outputs": []
    },
    {
      "cell_type": "code",
      "source": [
        "df.iloc[:, 0:]"
      ],
      "metadata": {
        "colab": {
          "base_uri": "https://localhost:8080/",
          "height": 424
        },
        "id": "9FsAEpSaM-ko",
        "outputId": "e9ce8a93-50e3-4c2f-b610-c5e0cea7596f"
      },
      "execution_count": 8,
      "outputs": [
        {
          "output_type": "execute_result",
          "data": {
            "text/plain": [
              "        10.4  7.3-13.3  8.6-10.4  10.4-12.4  6.2-6.9  6.9-7.3  Giá trị  class\n",
              "1464 -7851.0     -82.0     -53.0      143.0    191.0    -69.0      0.0      0\n",
              "857  -4787.0      31.0     -33.0      153.0   -208.0    -71.0      0.0      0\n",
              "1065  -674.0    -582.0    -112.0      598.0   -739.0   -702.0      0.0      0\n",
              "323   1865.0   -1675.0    -229.0      749.0  -1033.0  -1011.0      0.0      0\n",
              "720    121.0    -823.0     -52.0      794.0   -876.0   -856.0      0.0      0\n",
              "...      ...       ...       ...        ...      ...      ...      ...    ...\n",
              "1323  1639.0   -1179.0    -191.0      465.0  -1061.0   -925.0      0.4      1\n",
              "1330  1358.0   -1166.0    -211.0      377.0   -778.0   -715.0      0.6      1\n",
              "1337  1377.0   -1279.0    -140.0      452.0   -773.0   -762.0      0.2      1\n",
              "1338   532.0    -918.0    -126.0      324.0   -783.0   -705.0      0.4      1\n",
              "1437 -6860.0     135.0      83.0      359.0     54.0   -102.0      0.2      1\n",
              "\n",
              "[572 rows x 8 columns]"
            ],
            "text/html": [
              "\n",
              "  <div id=\"df-8a1a7257-c770-42bc-a9be-ba5d5084b027\">\n",
              "    <div class=\"colab-df-container\">\n",
              "      <div>\n",
              "<style scoped>\n",
              "    .dataframe tbody tr th:only-of-type {\n",
              "        vertical-align: middle;\n",
              "    }\n",
              "\n",
              "    .dataframe tbody tr th {\n",
              "        vertical-align: top;\n",
              "    }\n",
              "\n",
              "    .dataframe thead th {\n",
              "        text-align: right;\n",
              "    }\n",
              "</style>\n",
              "<table border=\"1\" class=\"dataframe\">\n",
              "  <thead>\n",
              "    <tr style=\"text-align: right;\">\n",
              "      <th></th>\n",
              "      <th>10.4</th>\n",
              "      <th>7.3-13.3</th>\n",
              "      <th>8.6-10.4</th>\n",
              "      <th>10.4-12.4</th>\n",
              "      <th>6.2-6.9</th>\n",
              "      <th>6.9-7.3</th>\n",
              "      <th>Giá trị</th>\n",
              "      <th>class</th>\n",
              "    </tr>\n",
              "  </thead>\n",
              "  <tbody>\n",
              "    <tr>\n",
              "      <th>1464</th>\n",
              "      <td>-7851.0</td>\n",
              "      <td>-82.0</td>\n",
              "      <td>-53.0</td>\n",
              "      <td>143.0</td>\n",
              "      <td>191.0</td>\n",
              "      <td>-69.0</td>\n",
              "      <td>0.0</td>\n",
              "      <td>0</td>\n",
              "    </tr>\n",
              "    <tr>\n",
              "      <th>857</th>\n",
              "      <td>-4787.0</td>\n",
              "      <td>31.0</td>\n",
              "      <td>-33.0</td>\n",
              "      <td>153.0</td>\n",
              "      <td>-208.0</td>\n",
              "      <td>-71.0</td>\n",
              "      <td>0.0</td>\n",
              "      <td>0</td>\n",
              "    </tr>\n",
              "    <tr>\n",
              "      <th>1065</th>\n",
              "      <td>-674.0</td>\n",
              "      <td>-582.0</td>\n",
              "      <td>-112.0</td>\n",
              "      <td>598.0</td>\n",
              "      <td>-739.0</td>\n",
              "      <td>-702.0</td>\n",
              "      <td>0.0</td>\n",
              "      <td>0</td>\n",
              "    </tr>\n",
              "    <tr>\n",
              "      <th>323</th>\n",
              "      <td>1865.0</td>\n",
              "      <td>-1675.0</td>\n",
              "      <td>-229.0</td>\n",
              "      <td>749.0</td>\n",
              "      <td>-1033.0</td>\n",
              "      <td>-1011.0</td>\n",
              "      <td>0.0</td>\n",
              "      <td>0</td>\n",
              "    </tr>\n",
              "    <tr>\n",
              "      <th>720</th>\n",
              "      <td>121.0</td>\n",
              "      <td>-823.0</td>\n",
              "      <td>-52.0</td>\n",
              "      <td>794.0</td>\n",
              "      <td>-876.0</td>\n",
              "      <td>-856.0</td>\n",
              "      <td>0.0</td>\n",
              "      <td>0</td>\n",
              "    </tr>\n",
              "    <tr>\n",
              "      <th>...</th>\n",
              "      <td>...</td>\n",
              "      <td>...</td>\n",
              "      <td>...</td>\n",
              "      <td>...</td>\n",
              "      <td>...</td>\n",
              "      <td>...</td>\n",
              "      <td>...</td>\n",
              "      <td>...</td>\n",
              "    </tr>\n",
              "    <tr>\n",
              "      <th>1323</th>\n",
              "      <td>1639.0</td>\n",
              "      <td>-1179.0</td>\n",
              "      <td>-191.0</td>\n",
              "      <td>465.0</td>\n",
              "      <td>-1061.0</td>\n",
              "      <td>-925.0</td>\n",
              "      <td>0.4</td>\n",
              "      <td>1</td>\n",
              "    </tr>\n",
              "    <tr>\n",
              "      <th>1330</th>\n",
              "      <td>1358.0</td>\n",
              "      <td>-1166.0</td>\n",
              "      <td>-211.0</td>\n",
              "      <td>377.0</td>\n",
              "      <td>-778.0</td>\n",
              "      <td>-715.0</td>\n",
              "      <td>0.6</td>\n",
              "      <td>1</td>\n",
              "    </tr>\n",
              "    <tr>\n",
              "      <th>1337</th>\n",
              "      <td>1377.0</td>\n",
              "      <td>-1279.0</td>\n",
              "      <td>-140.0</td>\n",
              "      <td>452.0</td>\n",
              "      <td>-773.0</td>\n",
              "      <td>-762.0</td>\n",
              "      <td>0.2</td>\n",
              "      <td>1</td>\n",
              "    </tr>\n",
              "    <tr>\n",
              "      <th>1338</th>\n",
              "      <td>532.0</td>\n",
              "      <td>-918.0</td>\n",
              "      <td>-126.0</td>\n",
              "      <td>324.0</td>\n",
              "      <td>-783.0</td>\n",
              "      <td>-705.0</td>\n",
              "      <td>0.4</td>\n",
              "      <td>1</td>\n",
              "    </tr>\n",
              "    <tr>\n",
              "      <th>1437</th>\n",
              "      <td>-6860.0</td>\n",
              "      <td>135.0</td>\n",
              "      <td>83.0</td>\n",
              "      <td>359.0</td>\n",
              "      <td>54.0</td>\n",
              "      <td>-102.0</td>\n",
              "      <td>0.2</td>\n",
              "      <td>1</td>\n",
              "    </tr>\n",
              "  </tbody>\n",
              "</table>\n",
              "<p>572 rows × 8 columns</p>\n",
              "</div>\n",
              "      <button class=\"colab-df-convert\" onclick=\"convertToInteractive('df-8a1a7257-c770-42bc-a9be-ba5d5084b027')\"\n",
              "              title=\"Convert this dataframe to an interactive table.\"\n",
              "              style=\"display:none;\">\n",
              "        \n",
              "  <svg xmlns=\"http://www.w3.org/2000/svg\" height=\"24px\"viewBox=\"0 0 24 24\"\n",
              "       width=\"24px\">\n",
              "    <path d=\"M0 0h24v24H0V0z\" fill=\"none\"/>\n",
              "    <path d=\"M18.56 5.44l.94 2.06.94-2.06 2.06-.94-2.06-.94-.94-2.06-.94 2.06-2.06.94zm-11 1L8.5 8.5l.94-2.06 2.06-.94-2.06-.94L8.5 2.5l-.94 2.06-2.06.94zm10 10l.94 2.06.94-2.06 2.06-.94-2.06-.94-.94-2.06-.94 2.06-2.06.94z\"/><path d=\"M17.41 7.96l-1.37-1.37c-.4-.4-.92-.59-1.43-.59-.52 0-1.04.2-1.43.59L10.3 9.45l-7.72 7.72c-.78.78-.78 2.05 0 2.83L4 21.41c.39.39.9.59 1.41.59.51 0 1.02-.2 1.41-.59l7.78-7.78 2.81-2.81c.8-.78.8-2.07 0-2.86zM5.41 20L4 18.59l7.72-7.72 1.47 1.35L5.41 20z\"/>\n",
              "  </svg>\n",
              "      </button>\n",
              "      \n",
              "  <style>\n",
              "    .colab-df-container {\n",
              "      display:flex;\n",
              "      flex-wrap:wrap;\n",
              "      gap: 12px;\n",
              "    }\n",
              "\n",
              "    .colab-df-convert {\n",
              "      background-color: #E8F0FE;\n",
              "      border: none;\n",
              "      border-radius: 50%;\n",
              "      cursor: pointer;\n",
              "      display: none;\n",
              "      fill: #1967D2;\n",
              "      height: 32px;\n",
              "      padding: 0 0 0 0;\n",
              "      width: 32px;\n",
              "    }\n",
              "\n",
              "    .colab-df-convert:hover {\n",
              "      background-color: #E2EBFA;\n",
              "      box-shadow: 0px 1px 2px rgba(60, 64, 67, 0.3), 0px 1px 3px 1px rgba(60, 64, 67, 0.15);\n",
              "      fill: #174EA6;\n",
              "    }\n",
              "\n",
              "    [theme=dark] .colab-df-convert {\n",
              "      background-color: #3B4455;\n",
              "      fill: #D2E3FC;\n",
              "    }\n",
              "\n",
              "    [theme=dark] .colab-df-convert:hover {\n",
              "      background-color: #434B5C;\n",
              "      box-shadow: 0px 1px 3px 1px rgba(0, 0, 0, 0.15);\n",
              "      filter: drop-shadow(0px 1px 2px rgba(0, 0, 0, 0.3));\n",
              "      fill: #FFFFFF;\n",
              "    }\n",
              "  </style>\n",
              "\n",
              "      <script>\n",
              "        const buttonEl =\n",
              "          document.querySelector('#df-8a1a7257-c770-42bc-a9be-ba5d5084b027 button.colab-df-convert');\n",
              "        buttonEl.style.display =\n",
              "          google.colab.kernel.accessAllowed ? 'block' : 'none';\n",
              "\n",
              "        async function convertToInteractive(key) {\n",
              "          const element = document.querySelector('#df-8a1a7257-c770-42bc-a9be-ba5d5084b027');\n",
              "          const dataTable =\n",
              "            await google.colab.kernel.invokeFunction('convertToInteractive',\n",
              "                                                     [key], {});\n",
              "          if (!dataTable) return;\n",
              "\n",
              "          const docLinkHtml = 'Like what you see? Visit the ' +\n",
              "            '<a target=\"_blank\" href=https://colab.research.google.com/notebooks/data_table.ipynb>data table notebook</a>'\n",
              "            + ' to learn more about interactive tables.';\n",
              "          element.innerHTML = '';\n",
              "          dataTable['output_type'] = 'display_data';\n",
              "          await google.colab.output.renderOutput(dataTable, element);\n",
              "          const docLink = document.createElement('div');\n",
              "          docLink.innerHTML = docLinkHtml;\n",
              "          element.appendChild(docLink);\n",
              "        }\n",
              "      </script>\n",
              "    </div>\n",
              "  </div>\n",
              "  "
            ]
          },
          "metadata": {},
          "execution_count": 8
        }
      ]
    },
    {
      "cell_type": "markdown",
      "source": [
        "### **MODELLING**"
      ],
      "metadata": {
        "id": "U3GoGygEN57J"
      }
    },
    {
      "cell_type": "markdown",
      "source": [
        "### **Classification(rain and no rain)**"
      ],
      "metadata": {
        "id": "GkoZiIF5OOMR"
      }
    },
    {
      "cell_type": "code",
      "source": [
        "bandsclf = df.iloc[:, 0:6]\n",
        "clf = df.iloc[:, 7]"
      ],
      "metadata": {
        "id": "u66bZt2-NtKS"
      },
      "execution_count": 60,
      "outputs": []
    },
    {
      "cell_type": "code",
      "source": [
        "X_trainc, X_testc, y_trainc, y_testc = train_test_split(bandsclf, clf, random_state = 40, test_size = 0.33)"
      ],
      "metadata": {
        "id": "NOfIUsqcOZ5u"
      },
      "execution_count": 61,
      "outputs": []
    },
    {
      "cell_type": "code",
      "source": [
        "model_clf = RandomForestClassifier(n_estimators=500, oob_score=True)"
      ],
      "metadata": {
        "id": "v9iCqQCZOiXd"
      },
      "execution_count": 62,
      "outputs": []
    },
    {
      "cell_type": "code",
      "source": [
        "model_clf.fit(X_trainc, y_trainc)"
      ],
      "metadata": {
        "colab": {
          "base_uri": "https://localhost:8080/"
        },
        "id": "x9eFGZVAPF6k",
        "outputId": "a48a0f30-625f-4a2f-94e4-fbdd9c2f378a"
      },
      "execution_count": 63,
      "outputs": [
        {
          "output_type": "execute_result",
          "data": {
            "text/plain": [
              "RandomForestClassifier(n_estimators=500, oob_score=True)"
            ]
          },
          "metadata": {},
          "execution_count": 63
        }
      ]
    },
    {
      "cell_type": "code",
      "source": [
        "predict_clf = model_clf.predict(X_testc)\n",
        "conf_matrix = confusion_matrix(predict_clf, y_testc)\n",
        "print(conf_matrix)\n",
        "class_report = classification_report(predict_clf, y_testc)\n",
        "print(class_report)"
      ],
      "metadata": {
        "colab": {
          "base_uri": "https://localhost:8080/"
        },
        "id": "oZ1x7FGpPYdm",
        "outputId": "aa0d3b5a-36ba-4cf7-96d6-52f880278056"
      },
      "execution_count": 64,
      "outputs": [
        {
          "output_type": "stream",
          "name": "stdout",
          "text": [
            "[[174  13]\n",
            " [  0   2]]\n",
            "              precision    recall  f1-score   support\n",
            "\n",
            "           0       1.00      0.93      0.96       187\n",
            "           1       0.13      1.00      0.24         2\n",
            "\n",
            "    accuracy                           0.93       189\n",
            "   macro avg       0.57      0.97      0.60       189\n",
            "weighted avg       0.99      0.93      0.96       189\n",
            "\n"
          ]
        }
      ]
    },
    {
      "cell_type": "markdown",
      "source": [
        "### **Regression**"
      ],
      "metadata": {
        "id": "JXVpwzxGTF8q"
      }
    },
    {
      "cell_type": "code",
      "source": [
        "dfreg = df.drop(df[df[\"Giá trị\"] == 0].index)\n",
        "dfreg"
      ],
      "metadata": {
        "colab": {
          "base_uri": "https://localhost:8080/",
          "height": 1000
        },
        "id": "RxKqHmSVV3Qy",
        "outputId": "fde1f884-fc23-42e3-d993-fd97eabaad18"
      },
      "execution_count": 65,
      "outputs": [
        {
          "output_type": "execute_result",
          "data": {
            "text/plain": [
              "        10.4  7.3-13.3  8.6-10.4  10.4-12.4  6.2-6.9  6.9-7.3  Giá trị  class\n",
              "4     1631.0   -1285.0    -211.0      743.0   -948.0   -818.0      0.2      1\n",
              "5     1725.0   -1368.0    -214.0      732.0   -929.0   -831.0      0.2      1\n",
              "6     1731.0   -1363.0    -223.0      747.0   -918.0   -826.0      0.2      1\n",
              "11    1723.0   -1300.0    -194.0      816.0   -908.0   -797.0      0.2      1\n",
              "139   1857.0   -1601.0    -203.0      793.0   -996.0   -936.0      0.2      1\n",
              "140   1771.0   -1581.0    -186.0      836.0   -981.0   -937.0      0.2      1\n",
              "184  -4137.0     -35.0     -79.0       49.0   -252.0    -72.0      0.2      1\n",
              "287  -1508.0    -447.0    -208.0      148.0   -895.0   -659.0      0.2      1\n",
              "296    385.0   -1275.0    -194.0      534.0   -872.0   -895.0      0.2      1\n",
              "325    944.0   -1285.0     -71.0      772.0   -907.0   -876.0      0.2      1\n",
              "337   1197.0   -1250.0    -154.0      897.0   -938.0   -904.0      0.2      1\n",
              "406  -2301.0     -21.0     -65.0      331.0   -763.0   -574.0      0.4      1\n",
              "421  -3827.0     307.0     217.0      968.0   -421.0   -397.0      0.2      1\n",
              "426  -3904.0     128.0     200.0      868.0   -325.0   -416.0      0.2      1\n",
              "530  -2202.0      -9.0     -36.0      867.0   -605.0   -435.0      0.4      1\n",
              "531  -2323.0      45.0     -33.0      857.0   -597.0   -397.0      0.2      1\n",
              "532  -2441.0      16.0     -32.0      697.0   -605.0   -411.0      0.2      1\n",
              "537   -278.0    -900.0    -124.0      654.0   -810.0   -821.0      0.2      1\n",
              "554  -3072.0    -133.0      85.0      769.0   -401.0   -397.0      0.2      1\n",
              "580  -1203.0    -427.0    -174.0      410.0   -905.0   -777.0      0.2      1\n",
              "585  -1377.0    -344.0    -155.0      322.0   -885.0   -767.0      0.2      1\n",
              "670  -4374.0      21.0       8.0      381.0   -193.0   -184.0      0.4      1\n",
              "671  -2876.0     -69.0     158.0      553.0   -447.0   -443.0      0.2      1\n",
              "672   -615.0    -714.0      43.0      836.0   -728.0   -767.0      0.2      1\n",
              "709  -1339.0    -285.0     -46.0      827.0   -698.0   -710.0      0.2      1\n",
              "710  -3210.0     -59.0     -56.0      586.0   -433.0   -356.0      0.2      1\n",
              "802   -657.0    -487.0    -158.0      634.0   -797.0   -709.0      0.2      1\n",
              "803    263.0    -859.0    -185.0      634.0   -854.0   -763.0      0.6      1\n",
              "809  -1516.0    -272.0       5.0      859.0   -622.0   -613.0      0.2      1\n",
              "831  -1110.0    -423.0      38.0      720.0   -821.0   -717.0      0.2      1\n",
              "840  -7314.0     -97.0    -117.0      178.0     72.0     12.0      0.2      1\n",
              "841  -6992.0      -5.0    -103.0      202.0    -21.0    -38.0      0.2      1\n",
              "843  -7013.0     -24.0     -82.0      215.0     39.0    -19.0      0.2      1\n",
              "919    917.0   -1210.0    -163.0      768.0   -969.0   -879.0      0.2      1\n",
              "922   1022.0   -1217.0    -143.0      742.0   -967.0   -891.0      0.4      1\n",
              "950   -291.0    -674.0    -235.0      407.0   -939.0   -806.0      0.4      1\n",
              "969  -2362.0    -164.0     166.0      883.0   -526.0   -534.0      0.2      1\n",
              "970  -2366.0    -163.0     123.0      851.0   -474.0   -555.0      0.2      1\n",
              "1054    50.0    -627.0     -93.0     1070.0   -766.0   -677.0      0.2      1\n",
              "1058   254.0    -895.0    -160.0      775.0   -792.0   -764.0      0.2      1\n",
              "1060  -142.0    -793.0    -172.0      645.0   -779.0   -738.0      0.2      1\n",
              "1079  -487.0    -611.0       9.0     1029.0   -692.0   -669.0      0.2      1\n",
              "1185  -188.0    -722.0       1.0      935.0   -783.0   -815.0      0.4      1\n",
              "1186   587.0   -1036.0     -37.0      807.0   -860.0   -880.0      0.2      1\n",
              "1189  1469.0   -1380.0    -126.0      864.0   -950.0  -1049.0      0.2      1\n",
              "1306    79.0    -761.0    -122.0      440.0   -888.0   -806.0      0.2      1\n",
              "1307   704.0    -836.0     -96.0      450.0   -917.0   -920.0      0.2      1\n",
              "1323  1639.0   -1179.0    -191.0      465.0  -1061.0   -925.0      0.4      1\n",
              "1330  1358.0   -1166.0    -211.0      377.0   -778.0   -715.0      0.6      1\n",
              "1337  1377.0   -1279.0    -140.0      452.0   -773.0   -762.0      0.2      1\n",
              "1338   532.0    -918.0    -126.0      324.0   -783.0   -705.0      0.4      1\n",
              "1437 -6860.0     135.0      83.0      359.0     54.0   -102.0      0.2      1"
            ],
            "text/html": [
              "\n",
              "  <div id=\"df-b2475578-12b0-487e-9da3-790338dcf037\">\n",
              "    <div class=\"colab-df-container\">\n",
              "      <div>\n",
              "<style scoped>\n",
              "    .dataframe tbody tr th:only-of-type {\n",
              "        vertical-align: middle;\n",
              "    }\n",
              "\n",
              "    .dataframe tbody tr th {\n",
              "        vertical-align: top;\n",
              "    }\n",
              "\n",
              "    .dataframe thead th {\n",
              "        text-align: right;\n",
              "    }\n",
              "</style>\n",
              "<table border=\"1\" class=\"dataframe\">\n",
              "  <thead>\n",
              "    <tr style=\"text-align: right;\">\n",
              "      <th></th>\n",
              "      <th>10.4</th>\n",
              "      <th>7.3-13.3</th>\n",
              "      <th>8.6-10.4</th>\n",
              "      <th>10.4-12.4</th>\n",
              "      <th>6.2-6.9</th>\n",
              "      <th>6.9-7.3</th>\n",
              "      <th>Giá trị</th>\n",
              "      <th>class</th>\n",
              "    </tr>\n",
              "  </thead>\n",
              "  <tbody>\n",
              "    <tr>\n",
              "      <th>4</th>\n",
              "      <td>1631.0</td>\n",
              "      <td>-1285.0</td>\n",
              "      <td>-211.0</td>\n",
              "      <td>743.0</td>\n",
              "      <td>-948.0</td>\n",
              "      <td>-818.0</td>\n",
              "      <td>0.2</td>\n",
              "      <td>1</td>\n",
              "    </tr>\n",
              "    <tr>\n",
              "      <th>5</th>\n",
              "      <td>1725.0</td>\n",
              "      <td>-1368.0</td>\n",
              "      <td>-214.0</td>\n",
              "      <td>732.0</td>\n",
              "      <td>-929.0</td>\n",
              "      <td>-831.0</td>\n",
              "      <td>0.2</td>\n",
              "      <td>1</td>\n",
              "    </tr>\n",
              "    <tr>\n",
              "      <th>6</th>\n",
              "      <td>1731.0</td>\n",
              "      <td>-1363.0</td>\n",
              "      <td>-223.0</td>\n",
              "      <td>747.0</td>\n",
              "      <td>-918.0</td>\n",
              "      <td>-826.0</td>\n",
              "      <td>0.2</td>\n",
              "      <td>1</td>\n",
              "    </tr>\n",
              "    <tr>\n",
              "      <th>11</th>\n",
              "      <td>1723.0</td>\n",
              "      <td>-1300.0</td>\n",
              "      <td>-194.0</td>\n",
              "      <td>816.0</td>\n",
              "      <td>-908.0</td>\n",
              "      <td>-797.0</td>\n",
              "      <td>0.2</td>\n",
              "      <td>1</td>\n",
              "    </tr>\n",
              "    <tr>\n",
              "      <th>139</th>\n",
              "      <td>1857.0</td>\n",
              "      <td>-1601.0</td>\n",
              "      <td>-203.0</td>\n",
              "      <td>793.0</td>\n",
              "      <td>-996.0</td>\n",
              "      <td>-936.0</td>\n",
              "      <td>0.2</td>\n",
              "      <td>1</td>\n",
              "    </tr>\n",
              "    <tr>\n",
              "      <th>140</th>\n",
              "      <td>1771.0</td>\n",
              "      <td>-1581.0</td>\n",
              "      <td>-186.0</td>\n",
              "      <td>836.0</td>\n",
              "      <td>-981.0</td>\n",
              "      <td>-937.0</td>\n",
              "      <td>0.2</td>\n",
              "      <td>1</td>\n",
              "    </tr>\n",
              "    <tr>\n",
              "      <th>184</th>\n",
              "      <td>-4137.0</td>\n",
              "      <td>-35.0</td>\n",
              "      <td>-79.0</td>\n",
              "      <td>49.0</td>\n",
              "      <td>-252.0</td>\n",
              "      <td>-72.0</td>\n",
              "      <td>0.2</td>\n",
              "      <td>1</td>\n",
              "    </tr>\n",
              "    <tr>\n",
              "      <th>287</th>\n",
              "      <td>-1508.0</td>\n",
              "      <td>-447.0</td>\n",
              "      <td>-208.0</td>\n",
              "      <td>148.0</td>\n",
              "      <td>-895.0</td>\n",
              "      <td>-659.0</td>\n",
              "      <td>0.2</td>\n",
              "      <td>1</td>\n",
              "    </tr>\n",
              "    <tr>\n",
              "      <th>296</th>\n",
              "      <td>385.0</td>\n",
              "      <td>-1275.0</td>\n",
              "      <td>-194.0</td>\n",
              "      <td>534.0</td>\n",
              "      <td>-872.0</td>\n",
              "      <td>-895.0</td>\n",
              "      <td>0.2</td>\n",
              "      <td>1</td>\n",
              "    </tr>\n",
              "    <tr>\n",
              "      <th>325</th>\n",
              "      <td>944.0</td>\n",
              "      <td>-1285.0</td>\n",
              "      <td>-71.0</td>\n",
              "      <td>772.0</td>\n",
              "      <td>-907.0</td>\n",
              "      <td>-876.0</td>\n",
              "      <td>0.2</td>\n",
              "      <td>1</td>\n",
              "    </tr>\n",
              "    <tr>\n",
              "      <th>337</th>\n",
              "      <td>1197.0</td>\n",
              "      <td>-1250.0</td>\n",
              "      <td>-154.0</td>\n",
              "      <td>897.0</td>\n",
              "      <td>-938.0</td>\n",
              "      <td>-904.0</td>\n",
              "      <td>0.2</td>\n",
              "      <td>1</td>\n",
              "    </tr>\n",
              "    <tr>\n",
              "      <th>406</th>\n",
              "      <td>-2301.0</td>\n",
              "      <td>-21.0</td>\n",
              "      <td>-65.0</td>\n",
              "      <td>331.0</td>\n",
              "      <td>-763.0</td>\n",
              "      <td>-574.0</td>\n",
              "      <td>0.4</td>\n",
              "      <td>1</td>\n",
              "    </tr>\n",
              "    <tr>\n",
              "      <th>421</th>\n",
              "      <td>-3827.0</td>\n",
              "      <td>307.0</td>\n",
              "      <td>217.0</td>\n",
              "      <td>968.0</td>\n",
              "      <td>-421.0</td>\n",
              "      <td>-397.0</td>\n",
              "      <td>0.2</td>\n",
              "      <td>1</td>\n",
              "    </tr>\n",
              "    <tr>\n",
              "      <th>426</th>\n",
              "      <td>-3904.0</td>\n",
              "      <td>128.0</td>\n",
              "      <td>200.0</td>\n",
              "      <td>868.0</td>\n",
              "      <td>-325.0</td>\n",
              "      <td>-416.0</td>\n",
              "      <td>0.2</td>\n",
              "      <td>1</td>\n",
              "    </tr>\n",
              "    <tr>\n",
              "      <th>530</th>\n",
              "      <td>-2202.0</td>\n",
              "      <td>-9.0</td>\n",
              "      <td>-36.0</td>\n",
              "      <td>867.0</td>\n",
              "      <td>-605.0</td>\n",
              "      <td>-435.0</td>\n",
              "      <td>0.4</td>\n",
              "      <td>1</td>\n",
              "    </tr>\n",
              "    <tr>\n",
              "      <th>531</th>\n",
              "      <td>-2323.0</td>\n",
              "      <td>45.0</td>\n",
              "      <td>-33.0</td>\n",
              "      <td>857.0</td>\n",
              "      <td>-597.0</td>\n",
              "      <td>-397.0</td>\n",
              "      <td>0.2</td>\n",
              "      <td>1</td>\n",
              "    </tr>\n",
              "    <tr>\n",
              "      <th>532</th>\n",
              "      <td>-2441.0</td>\n",
              "      <td>16.0</td>\n",
              "      <td>-32.0</td>\n",
              "      <td>697.0</td>\n",
              "      <td>-605.0</td>\n",
              "      <td>-411.0</td>\n",
              "      <td>0.2</td>\n",
              "      <td>1</td>\n",
              "    </tr>\n",
              "    <tr>\n",
              "      <th>537</th>\n",
              "      <td>-278.0</td>\n",
              "      <td>-900.0</td>\n",
              "      <td>-124.0</td>\n",
              "      <td>654.0</td>\n",
              "      <td>-810.0</td>\n",
              "      <td>-821.0</td>\n",
              "      <td>0.2</td>\n",
              "      <td>1</td>\n",
              "    </tr>\n",
              "    <tr>\n",
              "      <th>554</th>\n",
              "      <td>-3072.0</td>\n",
              "      <td>-133.0</td>\n",
              "      <td>85.0</td>\n",
              "      <td>769.0</td>\n",
              "      <td>-401.0</td>\n",
              "      <td>-397.0</td>\n",
              "      <td>0.2</td>\n",
              "      <td>1</td>\n",
              "    </tr>\n",
              "    <tr>\n",
              "      <th>580</th>\n",
              "      <td>-1203.0</td>\n",
              "      <td>-427.0</td>\n",
              "      <td>-174.0</td>\n",
              "      <td>410.0</td>\n",
              "      <td>-905.0</td>\n",
              "      <td>-777.0</td>\n",
              "      <td>0.2</td>\n",
              "      <td>1</td>\n",
              "    </tr>\n",
              "    <tr>\n",
              "      <th>585</th>\n",
              "      <td>-1377.0</td>\n",
              "      <td>-344.0</td>\n",
              "      <td>-155.0</td>\n",
              "      <td>322.0</td>\n",
              "      <td>-885.0</td>\n",
              "      <td>-767.0</td>\n",
              "      <td>0.2</td>\n",
              "      <td>1</td>\n",
              "    </tr>\n",
              "    <tr>\n",
              "      <th>670</th>\n",
              "      <td>-4374.0</td>\n",
              "      <td>21.0</td>\n",
              "      <td>8.0</td>\n",
              "      <td>381.0</td>\n",
              "      <td>-193.0</td>\n",
              "      <td>-184.0</td>\n",
              "      <td>0.4</td>\n",
              "      <td>1</td>\n",
              "    </tr>\n",
              "    <tr>\n",
              "      <th>671</th>\n",
              "      <td>-2876.0</td>\n",
              "      <td>-69.0</td>\n",
              "      <td>158.0</td>\n",
              "      <td>553.0</td>\n",
              "      <td>-447.0</td>\n",
              "      <td>-443.0</td>\n",
              "      <td>0.2</td>\n",
              "      <td>1</td>\n",
              "    </tr>\n",
              "    <tr>\n",
              "      <th>672</th>\n",
              "      <td>-615.0</td>\n",
              "      <td>-714.0</td>\n",
              "      <td>43.0</td>\n",
              "      <td>836.0</td>\n",
              "      <td>-728.0</td>\n",
              "      <td>-767.0</td>\n",
              "      <td>0.2</td>\n",
              "      <td>1</td>\n",
              "    </tr>\n",
              "    <tr>\n",
              "      <th>709</th>\n",
              "      <td>-1339.0</td>\n",
              "      <td>-285.0</td>\n",
              "      <td>-46.0</td>\n",
              "      <td>827.0</td>\n",
              "      <td>-698.0</td>\n",
              "      <td>-710.0</td>\n",
              "      <td>0.2</td>\n",
              "      <td>1</td>\n",
              "    </tr>\n",
              "    <tr>\n",
              "      <th>710</th>\n",
              "      <td>-3210.0</td>\n",
              "      <td>-59.0</td>\n",
              "      <td>-56.0</td>\n",
              "      <td>586.0</td>\n",
              "      <td>-433.0</td>\n",
              "      <td>-356.0</td>\n",
              "      <td>0.2</td>\n",
              "      <td>1</td>\n",
              "    </tr>\n",
              "    <tr>\n",
              "      <th>802</th>\n",
              "      <td>-657.0</td>\n",
              "      <td>-487.0</td>\n",
              "      <td>-158.0</td>\n",
              "      <td>634.0</td>\n",
              "      <td>-797.0</td>\n",
              "      <td>-709.0</td>\n",
              "      <td>0.2</td>\n",
              "      <td>1</td>\n",
              "    </tr>\n",
              "    <tr>\n",
              "      <th>803</th>\n",
              "      <td>263.0</td>\n",
              "      <td>-859.0</td>\n",
              "      <td>-185.0</td>\n",
              "      <td>634.0</td>\n",
              "      <td>-854.0</td>\n",
              "      <td>-763.0</td>\n",
              "      <td>0.6</td>\n",
              "      <td>1</td>\n",
              "    </tr>\n",
              "    <tr>\n",
              "      <th>809</th>\n",
              "      <td>-1516.0</td>\n",
              "      <td>-272.0</td>\n",
              "      <td>5.0</td>\n",
              "      <td>859.0</td>\n",
              "      <td>-622.0</td>\n",
              "      <td>-613.0</td>\n",
              "      <td>0.2</td>\n",
              "      <td>1</td>\n",
              "    </tr>\n",
              "    <tr>\n",
              "      <th>831</th>\n",
              "      <td>-1110.0</td>\n",
              "      <td>-423.0</td>\n",
              "      <td>38.0</td>\n",
              "      <td>720.0</td>\n",
              "      <td>-821.0</td>\n",
              "      <td>-717.0</td>\n",
              "      <td>0.2</td>\n",
              "      <td>1</td>\n",
              "    </tr>\n",
              "    <tr>\n",
              "      <th>840</th>\n",
              "      <td>-7314.0</td>\n",
              "      <td>-97.0</td>\n",
              "      <td>-117.0</td>\n",
              "      <td>178.0</td>\n",
              "      <td>72.0</td>\n",
              "      <td>12.0</td>\n",
              "      <td>0.2</td>\n",
              "      <td>1</td>\n",
              "    </tr>\n",
              "    <tr>\n",
              "      <th>841</th>\n",
              "      <td>-6992.0</td>\n",
              "      <td>-5.0</td>\n",
              "      <td>-103.0</td>\n",
              "      <td>202.0</td>\n",
              "      <td>-21.0</td>\n",
              "      <td>-38.0</td>\n",
              "      <td>0.2</td>\n",
              "      <td>1</td>\n",
              "    </tr>\n",
              "    <tr>\n",
              "      <th>843</th>\n",
              "      <td>-7013.0</td>\n",
              "      <td>-24.0</td>\n",
              "      <td>-82.0</td>\n",
              "      <td>215.0</td>\n",
              "      <td>39.0</td>\n",
              "      <td>-19.0</td>\n",
              "      <td>0.2</td>\n",
              "      <td>1</td>\n",
              "    </tr>\n",
              "    <tr>\n",
              "      <th>919</th>\n",
              "      <td>917.0</td>\n",
              "      <td>-1210.0</td>\n",
              "      <td>-163.0</td>\n",
              "      <td>768.0</td>\n",
              "      <td>-969.0</td>\n",
              "      <td>-879.0</td>\n",
              "      <td>0.2</td>\n",
              "      <td>1</td>\n",
              "    </tr>\n",
              "    <tr>\n",
              "      <th>922</th>\n",
              "      <td>1022.0</td>\n",
              "      <td>-1217.0</td>\n",
              "      <td>-143.0</td>\n",
              "      <td>742.0</td>\n",
              "      <td>-967.0</td>\n",
              "      <td>-891.0</td>\n",
              "      <td>0.4</td>\n",
              "      <td>1</td>\n",
              "    </tr>\n",
              "    <tr>\n",
              "      <th>950</th>\n",
              "      <td>-291.0</td>\n",
              "      <td>-674.0</td>\n",
              "      <td>-235.0</td>\n",
              "      <td>407.0</td>\n",
              "      <td>-939.0</td>\n",
              "      <td>-806.0</td>\n",
              "      <td>0.4</td>\n",
              "      <td>1</td>\n",
              "    </tr>\n",
              "    <tr>\n",
              "      <th>969</th>\n",
              "      <td>-2362.0</td>\n",
              "      <td>-164.0</td>\n",
              "      <td>166.0</td>\n",
              "      <td>883.0</td>\n",
              "      <td>-526.0</td>\n",
              "      <td>-534.0</td>\n",
              "      <td>0.2</td>\n",
              "      <td>1</td>\n",
              "    </tr>\n",
              "    <tr>\n",
              "      <th>970</th>\n",
              "      <td>-2366.0</td>\n",
              "      <td>-163.0</td>\n",
              "      <td>123.0</td>\n",
              "      <td>851.0</td>\n",
              "      <td>-474.0</td>\n",
              "      <td>-555.0</td>\n",
              "      <td>0.2</td>\n",
              "      <td>1</td>\n",
              "    </tr>\n",
              "    <tr>\n",
              "      <th>1054</th>\n",
              "      <td>50.0</td>\n",
              "      <td>-627.0</td>\n",
              "      <td>-93.0</td>\n",
              "      <td>1070.0</td>\n",
              "      <td>-766.0</td>\n",
              "      <td>-677.0</td>\n",
              "      <td>0.2</td>\n",
              "      <td>1</td>\n",
              "    </tr>\n",
              "    <tr>\n",
              "      <th>1058</th>\n",
              "      <td>254.0</td>\n",
              "      <td>-895.0</td>\n",
              "      <td>-160.0</td>\n",
              "      <td>775.0</td>\n",
              "      <td>-792.0</td>\n",
              "      <td>-764.0</td>\n",
              "      <td>0.2</td>\n",
              "      <td>1</td>\n",
              "    </tr>\n",
              "    <tr>\n",
              "      <th>1060</th>\n",
              "      <td>-142.0</td>\n",
              "      <td>-793.0</td>\n",
              "      <td>-172.0</td>\n",
              "      <td>645.0</td>\n",
              "      <td>-779.0</td>\n",
              "      <td>-738.0</td>\n",
              "      <td>0.2</td>\n",
              "      <td>1</td>\n",
              "    </tr>\n",
              "    <tr>\n",
              "      <th>1079</th>\n",
              "      <td>-487.0</td>\n",
              "      <td>-611.0</td>\n",
              "      <td>9.0</td>\n",
              "      <td>1029.0</td>\n",
              "      <td>-692.0</td>\n",
              "      <td>-669.0</td>\n",
              "      <td>0.2</td>\n",
              "      <td>1</td>\n",
              "    </tr>\n",
              "    <tr>\n",
              "      <th>1185</th>\n",
              "      <td>-188.0</td>\n",
              "      <td>-722.0</td>\n",
              "      <td>1.0</td>\n",
              "      <td>935.0</td>\n",
              "      <td>-783.0</td>\n",
              "      <td>-815.0</td>\n",
              "      <td>0.4</td>\n",
              "      <td>1</td>\n",
              "    </tr>\n",
              "    <tr>\n",
              "      <th>1186</th>\n",
              "      <td>587.0</td>\n",
              "      <td>-1036.0</td>\n",
              "      <td>-37.0</td>\n",
              "      <td>807.0</td>\n",
              "      <td>-860.0</td>\n",
              "      <td>-880.0</td>\n",
              "      <td>0.2</td>\n",
              "      <td>1</td>\n",
              "    </tr>\n",
              "    <tr>\n",
              "      <th>1189</th>\n",
              "      <td>1469.0</td>\n",
              "      <td>-1380.0</td>\n",
              "      <td>-126.0</td>\n",
              "      <td>864.0</td>\n",
              "      <td>-950.0</td>\n",
              "      <td>-1049.0</td>\n",
              "      <td>0.2</td>\n",
              "      <td>1</td>\n",
              "    </tr>\n",
              "    <tr>\n",
              "      <th>1306</th>\n",
              "      <td>79.0</td>\n",
              "      <td>-761.0</td>\n",
              "      <td>-122.0</td>\n",
              "      <td>440.0</td>\n",
              "      <td>-888.0</td>\n",
              "      <td>-806.0</td>\n",
              "      <td>0.2</td>\n",
              "      <td>1</td>\n",
              "    </tr>\n",
              "    <tr>\n",
              "      <th>1307</th>\n",
              "      <td>704.0</td>\n",
              "      <td>-836.0</td>\n",
              "      <td>-96.0</td>\n",
              "      <td>450.0</td>\n",
              "      <td>-917.0</td>\n",
              "      <td>-920.0</td>\n",
              "      <td>0.2</td>\n",
              "      <td>1</td>\n",
              "    </tr>\n",
              "    <tr>\n",
              "      <th>1323</th>\n",
              "      <td>1639.0</td>\n",
              "      <td>-1179.0</td>\n",
              "      <td>-191.0</td>\n",
              "      <td>465.0</td>\n",
              "      <td>-1061.0</td>\n",
              "      <td>-925.0</td>\n",
              "      <td>0.4</td>\n",
              "      <td>1</td>\n",
              "    </tr>\n",
              "    <tr>\n",
              "      <th>1330</th>\n",
              "      <td>1358.0</td>\n",
              "      <td>-1166.0</td>\n",
              "      <td>-211.0</td>\n",
              "      <td>377.0</td>\n",
              "      <td>-778.0</td>\n",
              "      <td>-715.0</td>\n",
              "      <td>0.6</td>\n",
              "      <td>1</td>\n",
              "    </tr>\n",
              "    <tr>\n",
              "      <th>1337</th>\n",
              "      <td>1377.0</td>\n",
              "      <td>-1279.0</td>\n",
              "      <td>-140.0</td>\n",
              "      <td>452.0</td>\n",
              "      <td>-773.0</td>\n",
              "      <td>-762.0</td>\n",
              "      <td>0.2</td>\n",
              "      <td>1</td>\n",
              "    </tr>\n",
              "    <tr>\n",
              "      <th>1338</th>\n",
              "      <td>532.0</td>\n",
              "      <td>-918.0</td>\n",
              "      <td>-126.0</td>\n",
              "      <td>324.0</td>\n",
              "      <td>-783.0</td>\n",
              "      <td>-705.0</td>\n",
              "      <td>0.4</td>\n",
              "      <td>1</td>\n",
              "    </tr>\n",
              "    <tr>\n",
              "      <th>1437</th>\n",
              "      <td>-6860.0</td>\n",
              "      <td>135.0</td>\n",
              "      <td>83.0</td>\n",
              "      <td>359.0</td>\n",
              "      <td>54.0</td>\n",
              "      <td>-102.0</td>\n",
              "      <td>0.2</td>\n",
              "      <td>1</td>\n",
              "    </tr>\n",
              "  </tbody>\n",
              "</table>\n",
              "</div>\n",
              "      <button class=\"colab-df-convert\" onclick=\"convertToInteractive('df-b2475578-12b0-487e-9da3-790338dcf037')\"\n",
              "              title=\"Convert this dataframe to an interactive table.\"\n",
              "              style=\"display:none;\">\n",
              "        \n",
              "  <svg xmlns=\"http://www.w3.org/2000/svg\" height=\"24px\"viewBox=\"0 0 24 24\"\n",
              "       width=\"24px\">\n",
              "    <path d=\"M0 0h24v24H0V0z\" fill=\"none\"/>\n",
              "    <path d=\"M18.56 5.44l.94 2.06.94-2.06 2.06-.94-2.06-.94-.94-2.06-.94 2.06-2.06.94zm-11 1L8.5 8.5l.94-2.06 2.06-.94-2.06-.94L8.5 2.5l-.94 2.06-2.06.94zm10 10l.94 2.06.94-2.06 2.06-.94-2.06-.94-.94-2.06-.94 2.06-2.06.94z\"/><path d=\"M17.41 7.96l-1.37-1.37c-.4-.4-.92-.59-1.43-.59-.52 0-1.04.2-1.43.59L10.3 9.45l-7.72 7.72c-.78.78-.78 2.05 0 2.83L4 21.41c.39.39.9.59 1.41.59.51 0 1.02-.2 1.41-.59l7.78-7.78 2.81-2.81c.8-.78.8-2.07 0-2.86zM5.41 20L4 18.59l7.72-7.72 1.47 1.35L5.41 20z\"/>\n",
              "  </svg>\n",
              "      </button>\n",
              "      \n",
              "  <style>\n",
              "    .colab-df-container {\n",
              "      display:flex;\n",
              "      flex-wrap:wrap;\n",
              "      gap: 12px;\n",
              "    }\n",
              "\n",
              "    .colab-df-convert {\n",
              "      background-color: #E8F0FE;\n",
              "      border: none;\n",
              "      border-radius: 50%;\n",
              "      cursor: pointer;\n",
              "      display: none;\n",
              "      fill: #1967D2;\n",
              "      height: 32px;\n",
              "      padding: 0 0 0 0;\n",
              "      width: 32px;\n",
              "    }\n",
              "\n",
              "    .colab-df-convert:hover {\n",
              "      background-color: #E2EBFA;\n",
              "      box-shadow: 0px 1px 2px rgba(60, 64, 67, 0.3), 0px 1px 3px 1px rgba(60, 64, 67, 0.15);\n",
              "      fill: #174EA6;\n",
              "    }\n",
              "\n",
              "    [theme=dark] .colab-df-convert {\n",
              "      background-color: #3B4455;\n",
              "      fill: #D2E3FC;\n",
              "    }\n",
              "\n",
              "    [theme=dark] .colab-df-convert:hover {\n",
              "      background-color: #434B5C;\n",
              "      box-shadow: 0px 1px 3px 1px rgba(0, 0, 0, 0.15);\n",
              "      filter: drop-shadow(0px 1px 2px rgba(0, 0, 0, 0.3));\n",
              "      fill: #FFFFFF;\n",
              "    }\n",
              "  </style>\n",
              "\n",
              "      <script>\n",
              "        const buttonEl =\n",
              "          document.querySelector('#df-b2475578-12b0-487e-9da3-790338dcf037 button.colab-df-convert');\n",
              "        buttonEl.style.display =\n",
              "          google.colab.kernel.accessAllowed ? 'block' : 'none';\n",
              "\n",
              "        async function convertToInteractive(key) {\n",
              "          const element = document.querySelector('#df-b2475578-12b0-487e-9da3-790338dcf037');\n",
              "          const dataTable =\n",
              "            await google.colab.kernel.invokeFunction('convertToInteractive',\n",
              "                                                     [key], {});\n",
              "          if (!dataTable) return;\n",
              "\n",
              "          const docLinkHtml = 'Like what you see? Visit the ' +\n",
              "            '<a target=\"_blank\" href=https://colab.research.google.com/notebooks/data_table.ipynb>data table notebook</a>'\n",
              "            + ' to learn more about interactive tables.';\n",
              "          element.innerHTML = '';\n",
              "          dataTable['output_type'] = 'display_data';\n",
              "          await google.colab.output.renderOutput(dataTable, element);\n",
              "          const docLink = document.createElement('div');\n",
              "          docLink.innerHTML = docLinkHtml;\n",
              "          element.appendChild(docLink);\n",
              "        }\n",
              "      </script>\n",
              "    </div>\n",
              "  </div>\n",
              "  "
            ]
          },
          "metadata": {},
          "execution_count": 65
        }
      ]
    },
    {
      "cell_type": "code",
      "source": [
        "bandsreg = dfreg.iloc[:, 0:6]\n",
        "reg = dfreg.iloc[:, 6]"
      ],
      "metadata": {
        "id": "iFdUWqa0W0Os"
      },
      "execution_count": 66,
      "outputs": []
    },
    {
      "cell_type": "code",
      "source": [
        "X_trainr, X_testr, y_trainr, y_testr = train_test_split(bandsreg, reg, random_state = 40 ,test_size = 0.33)"
      ],
      "metadata": {
        "id": "vXd77sMi5Ju0"
      },
      "execution_count": 72,
      "outputs": []
    },
    {
      "cell_type": "code",
      "source": [
        "model_reg = RandomForestRegressor(n_estimators=500, oob_score=True, max_depth=17)"
      ],
      "metadata": {
        "id": "_-dlQeLFUDei"
      },
      "execution_count": 73,
      "outputs": []
    },
    {
      "cell_type": "code",
      "source": [
        "model_reg.fit(X_trainr, y_trainr)"
      ],
      "metadata": {
        "colab": {
          "base_uri": "https://localhost:8080/"
        },
        "id": "-qvaELzwUMpH",
        "outputId": "4488d4df-f198-4cef-d0a0-c3c6c0a7369a"
      },
      "execution_count": 74,
      "outputs": [
        {
          "output_type": "execute_result",
          "data": {
            "text/plain": [
              "RandomForestRegressor(max_depth=17, n_estimators=500, oob_score=True)"
            ]
          },
          "metadata": {},
          "execution_count": 74
        }
      ]
    },
    {
      "cell_type": "code",
      "source": [
        "print('MSE train =',  mean_squared_error(y_trainr, model_reg.predict(X_trainr)))"
      ],
      "metadata": {
        "colab": {
          "base_uri": "https://localhost:8080/"
        },
        "id": "2K45-zV0UXxM",
        "outputId": "c5c47567-b0ee-459a-8ee7-ff5957356e23"
      },
      "execution_count": 81,
      "outputs": [
        {
          "output_type": "stream",
          "name": "stdout",
          "text": [
            "MSE train = 0.0015254823529412425\n"
          ]
        }
      ]
    },
    {
      "cell_type": "code",
      "source": [
        "print('MSE test =', mean_squared_error(y_testr, model_reg.predict(X_testr)))"
      ],
      "metadata": {
        "colab": {
          "base_uri": "https://localhost:8080/"
        },
        "id": "ItArmu7RU8nC",
        "outputId": "01bd8b6c-c3c6-4f8c-9ca5-007efdff7fb6"
      },
      "execution_count": 82,
      "outputs": [
        {
          "output_type": "stream",
          "name": "stdout",
          "text": [
            "MSE test = 0.015382693333333213\n"
          ]
        }
      ]
    },
    {
      "cell_type": "code",
      "source": [
        "plt.ylabel(\"Predicted\")\n",
        "plt.xlabel(\"Expected\")\n",
        "plt.title(\"Train Scatter Plot\")\n",
        "plt.plot(y_trainr, model_reg.predict(X_trainr), 'o')\n",
        "m, b = np.polyfit(y_trainr, model_reg.predict(X_trainr), 1)\n",
        "plt.plot(y_trainr, m*y_trainr + b, 'r')\n",
        "plt.show()"
      ],
      "metadata": {
        "colab": {
          "base_uri": "https://localhost:8080/",
          "height": 295
        },
        "id": "4fsU9igHau1u",
        "outputId": "2383f72c-ff1b-4b41-989d-467732a81581"
      },
      "execution_count": 77,
      "outputs": [
        {
          "output_type": "display_data",
          "data": {
            "text/plain": [
              "<Figure size 432x288 with 1 Axes>"
            ],
            "image/png": "[encoded data removed]"
          },
          "metadata": {
            "needs_background": "light"
          }
        }
      ]
    },
    {
      "cell_type": "code",
      "source": [
        "plt.ylabel(\"Predicted\")\n",
        "plt.xlabel(\"Expected\")\n",
        "plt.title(\"Test Scatter Plot\")\n",
        "plt.plot(y_testr, model_reg.predict(X_testr), 'o')\n",
        "m, b = np.polyfit(y_testr, model_reg.predict(X_testr), 1)\n",
        "plt.plot(y_testr, m*y_testr + b, 'r')\n",
        "plt.show()"
      ],
      "metadata": {
        "colab": {
          "base_uri": "https://localhost:8080/",
          "height": 295
        },
        "id": "50OKdfPjbbB6",
        "outputId": "41cb0e50-5fc8-4761-b647-9f305cdc81ae"
      },
      "execution_count": 78,
      "outputs": [
        {
          "output_type": "display_data",
          "data": {
            "text/plain": [
              "<Figure size 432x288 with 1 Axes>"
            ],
            "image/png": "[encoded data removed]"
          },
          "metadata": {
            "needs_background": "light"
          }
        }
      ]
    }
  ]
}